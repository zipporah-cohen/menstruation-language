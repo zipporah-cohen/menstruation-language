{
 "cells": [
  {
   "cell_type": "markdown",
   "id": "e2c44f16",
   "metadata": {},
   "source": [
    "# Search and Save Query Pages\n",
    "\n",
    "Author: Zipporah Cohen\n",
    "\n",
    "**Summary**\n",
    "\n",
    "This notebook uses Selenium to perform Google searches for a set list of queries and saves each resulting HTML locally.\n",
    "\n",
    "**Table of Contents**\n",
    "1. [Create JSON for Queries](#sec1)\n",
    "2. [Set up WebDriver](#sec2)\n",
    "3. [Create and Call Searching Function](#sec3)"
   ]
  },
  {
   "cell_type": "markdown",
   "id": "f692be44",
   "metadata": {},
   "source": [
    "### Perform Imports"
   ]
  },
  {
   "cell_type": "code",
   "execution_count": 2,
   "id": "1b5691a5",
   "metadata": {},
   "outputs": [],
   "source": [
    "import selenium\n",
    "from selenium import webdriver\n",
    "from selenium.webdriver.common.desired_capabilities import DesiredCapabilities\n",
    "from selenium.webdriver.chrome.options import Options\n",
    "from selenium.webdriver.chrome.service import Service\n",
    "from selenium.webdriver.common.by import By\n",
    "\n",
    "from time import sleep"
   ]
  },
  {
   "cell_type": "markdown",
   "id": "02a2fd64",
   "metadata": {},
   "source": [
    "<a id=\"sec1\"></a>\n",
    "## Create a JSON file to contain all of the queries for re-use\n",
    "\n",
    "Break queries into four separate categories which label them by type of language used or content of the query"
   ]
  },
  {
   "cell_type": "code",
   "execution_count": 1,
   "id": "fb0937af",
   "metadata": {},
   "outputs": [],
   "source": [
    "from collections import defaultdict\n",
    "\n",
    "queries = defaultdict(list)\n",
    "queries['inclusive-terms'] = ['Why do people get periods',\n",
    "    'why do we menstruate?',\n",
    "    'advice for people who menstruate',\n",
    "    'how to mitigate dysphoria while menstruating',\n",
    "    'things that everyone who has a period should know',\n",
    "    'should menstruators drink while on their period',\n",
    "    'do trans men stop menstruating?',\n",
    "    'do trans women menstruate?',\n",
    "    'do trans women ever want to menstruate?',\n",
    "    'how does menstruation affect the trans experience?']\n",
    "\n",
    "queries['non-gendered'] = ['what menstrual pads are best?',\n",
    "    'average length of menstrual cycle',\n",
    "    'how much blood is lost in one period',\n",
    "    'How do periods work',\n",
    "    'what\\'s the point of menstruation?',\n",
    "    'what\\'s the deal with menstruation?',\n",
    "    'why do people menstruate?',\n",
    "    'why is menstruation so uncomfortable?',\n",
    "    'how much blood is too much blood',\n",
    "     'what is a period',\n",
    "    'how long do periods last',\n",
    "    'when do i get my period',\n",
    "    'what is menstruation?',\n",
    "    'why do humans menstruate?',\n",
    "    'is menstruating annoying?',\n",
    "    'will we ever evolve out of menstruating?',\n",
    "    'why is there blood in my underwear',\n",
    "    'is my period normal',\n",
    "    'period',\n",
    "    'cramps']\n",
    "\n",
    "queries['female-gendered'] = ['how long are women\\'s periods?',\n",
    "    'how many periods does a woman get in her lifetime',\n",
    "    'why is my girlfriend so moody before her period',\n",
    "    'how to take care of my girlfriend on her period',\n",
    "    'When do girls start their periods?',\n",
    "    'female monthly period',\n",
    "    'why do women menstruate?',\n",
    "    'is menstruating annoying to women?',\n",
    "    'do only women menstruate?',\n",
    "    'why do only women menstruate?',\n",
    "    'how long do women menstruate',\n",
    "    'how late should women be on their period']\n",
    "\n",
    "queries['anatomical-terms'] = ['menstruation and vaginas',\n",
    "    'breasts hurt during period',\n",
    "    'tampon isn\\'t fitting in my vagina',\n",
    "    'diva cup fit test for vulva',\n",
    "    'why does menstruation cause cramps and butt pain?',\n",
    "    'Does menstruation come out of uterus',\n",
    "    'what is going on in with the uterus and ovaries during menstruation?',\n",
    "    'what happens in the body during menstruation?',\n",
    "    'why do boobs hurt during menstruation?',\n",
    "    'blood coming out of my vagina',\n",
    "    'my uterus hurts',\n",
    "    'vagina',\n",
    "    'uterus']"
   ]
  },
  {
   "cell_type": "code",
   "execution_count": 2,
   "id": "47492b6e",
   "metadata": {},
   "outputs": [],
   "source": [
    "import json\n",
    "with open('search-phrases.json', 'w') as outFile:\n",
    "    json.dump(queries, outFile)"
   ]
  },
  {
   "cell_type": "code",
   "execution_count": 3,
   "id": "f2897253",
   "metadata": {},
   "outputs": [
    {
     "data": {
      "text/plain": [
       "55"
      ]
     },
     "execution_count": 3,
     "metadata": {},
     "output_type": "execute_result"
    }
   ],
   "source": [
    "sum([len(queries[k]) for k in queries.keys()])"
   ]
  },
  {
   "cell_type": "code",
   "execution_count": 4,
   "id": "a8e6886b",
   "metadata": {},
   "outputs": [
    {
     "name": "stdout",
     "output_type": "stream",
     "text": [
      "inclusive-terms --- 10 phrases\n",
      "non-gendered --- 20 phrases\n",
      "female-gendered --- 12 phrases\n",
      "anatomical-terms --- 13 phrases\n"
     ]
    }
   ],
   "source": [
    "for category in queries:\n",
    "    print(f\"{category} --- {len(queries[category])} phrases\")"
   ]
  },
  {
   "cell_type": "markdown",
   "id": "ca7d4c5e",
   "metadata": {},
   "source": [
    "<a id=\"sec2\"></a>\n",
    "## Set up the driver\n",
    "\n",
    "Creating a headless instance of the driver."
   ]
  },
  {
   "cell_type": "code",
   "execution_count": 6,
   "id": "ada4d363",
   "metadata": {},
   "outputs": [],
   "source": [
    "driverpath = 'driver/chromedriver'\n",
    "\n",
    "# This option is what will skip opening a browser window\n",
    "chrome_options = webdriver.ChromeOptions()\n",
    "chrome_options.add_argument('headless');\n",
    "\n",
    "# Create the driver instance\n",
    "service = Service(driverpath)"
   ]
  },
  {
   "cell_type": "markdown",
   "id": "4256b4c2",
   "metadata": {},
   "source": [
    "<a id=\"sec3\"></a>\n",
    "## Searching function"
   ]
  },
  {
   "cell_type": "markdown",
   "id": "19815867",
   "metadata": {},
   "source": [
    "Create a search function that opens a headless instance of google chrome and searches for a given query. Create a folder of the name of the query and save the generated html in that folder."
   ]
  },
  {
   "cell_type": "code",
   "execution_count": 8,
   "id": "dc91eaac",
   "metadata": {},
   "outputs": [],
   "source": [
    "import time, os\n",
    "\n",
    "def search(query):\n",
    "    \"\"\"\n",
    "    This function can search for a given query using Google. It will then save the html page in a new directory.\n",
    "    Parameters:\n",
    "    query - a string that contains the phrase that will be searched\n",
    "    \"\"\"\n",
    "    # Create a new instance of the driver for every search\n",
    "    driver = webdriver.Chrome(service=service, options=chrome_options)\n",
    "    \n",
    "    # perform the search, because we need the location link to show\n",
    "    url = f\"https://google.com/search?q={query}\"\n",
    "    driver.get(url)\n",
    "\n",
    "    # Access the content of the page\n",
    "    htmlPage = driver.page_source\n",
    "    \n",
    "    # if a folder with the name of the query doesn't exist, create it, then save the file\n",
    "    if not os.path.isdir(f\"queries/{query}\"):\n",
    "        os.mkdir(f\"queries/{query}\")\n",
    "    with open(f\"queries/{query}/{query}.html\", 'w', encoding='utf-8') as output:\n",
    "        output.write(htmlPage)\n",
    "    print(query)\n",
    "        \n",
    "    # close the instance\n",
    "    driver.close()"
   ]
  },
  {
   "cell_type": "markdown",
   "id": "36c0de34",
   "metadata": {},
   "source": [
    "### Call the Function for each Query"
   ]
  },
  {
   "cell_type": "code",
   "execution_count": 37,
   "id": "4e54a867",
   "metadata": {},
   "outputs": [
    {
     "name": "stdout",
     "output_type": "stream",
     "text": [
      "Why do people get periods\n",
      "why do we menstruate?\n",
      "advice for people who menstruate\n",
      "how to mitigate dysphoria while menstruating\n",
      "things that everyone who has a period should know\n",
      "should menstruators drink while on their period\n",
      "do trans men stop menstruating?\n",
      "do trans women menstruate?\n",
      "do trans women ever want to menstruate?\n",
      "how does menstruation affect the trans experience?\n",
      "what menstrual pads are best?\n",
      "average length of menstrual cycle\n",
      "how much blood is lost in one period\n",
      "How do periods work\n",
      "what's the point of menstruation?what's the deal with menstruation?\n",
      "why do people menstruate?\n",
      "why is menstruation so uncomfortable?\n",
      "how much blood is too much blood\n",
      "what is a period\n",
      "how long do periods last\n",
      "when do i get my period\n",
      "How do periods work\n",
      "what is menstruation?\n",
      "why do humans menstruate?\n",
      "is menstruating annoying?\n",
      "will we ever evolve out of menstruating?\n",
      "why is there blood in my underwear\n",
      "is my period normal\n",
      "menstruation and vaginas\n",
      "breasts hurt during period\n",
      "tampon isn’t fitting in my vagina\n",
      "diva cup fit test for vulva\n",
      "why does menstruation cause cramps and butt pain?\n",
      "Does menstruation come out of uterus\n",
      "what is going on in with the uterus and ovaries during menstruation?\n",
      "what happens in the body during menstruation?\n",
      "why do boobs hurt during menstruation?\n",
      "blood coming out of my vagina\n",
      "my uterus hurts\n"
     ]
    }
   ],
   "source": [
    "for category in queries:\n",
    "    for q in queries[category]:\n",
    "        search(q)\n",
    "        time.sleep(10)"
   ]
  }
 ],
 "metadata": {
  "kernelspec": {
   "display_name": "Python 3 (ipykernel)",
   "language": "python",
   "name": "python3"
  },
  "language_info": {
   "codemirror_mode": {
    "name": "ipython",
    "version": 3
   },
   "file_extension": ".py",
   "mimetype": "text/x-python",
   "name": "python",
   "nbconvert_exporter": "python",
   "pygments_lexer": "ipython3",
   "version": "3.9.9"
  }
 },
 "nbformat": 4,
 "nbformat_minor": 5
}
