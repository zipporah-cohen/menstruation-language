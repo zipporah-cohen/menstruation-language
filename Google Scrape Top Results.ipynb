{
 "cells": [
  {
   "cell_type": "markdown",
   "id": "a7738935",
   "metadata": {},
   "source": [
    "# Scraping Organic Search Results of Google Pages\n",
    "\n",
    "Author: Zipporah Cohen based on the work of Malika Parkhomchuk\n",
    "\n",
    "**Summary**\n",
    "\n",
    "This notebook contains and calls a function that can scrape the organic search results from locally saved HTML files.\n",
    "\n",
    "**Table of Contents**\n",
    "1. [Create Functions](#sec1)\n",
    "2. [Call Functions on HTMLs](#sec2)"
   ]
  },
  {
   "cell_type": "markdown",
   "id": "0ce524ec",
   "metadata": {},
   "source": [
    "**Import all libraries**"
   ]
  },
  {
   "cell_type": "code",
   "execution_count": 6,
   "id": "7bb556f3",
   "metadata": {},
   "outputs": [],
   "source": [
    "import os\n",
    "import requests\n",
    "from bs4 import BeautifulSoup as BS\n",
    "import json\n",
    "from urllib.parse import urlparse "
   ]
  },
  {
   "cell_type": "markdown",
   "id": "2a330056",
   "metadata": {},
   "source": [
    "<a id=\"sec1\"></a>\n",
    "### Create functions to extract top search result info\n",
    "\n",
    "- `desired_results()` weed out for only organic search results\n",
    "- `find_top_results()` select all webpage results from the html\n",
    "- `create_json()` dump the information from only organic search results into an html"
   ]
  },
  {
   "cell_type": "markdown",
   "id": "1805c33d",
   "metadata": {},
   "source": [
    "Function filters out results that are not organic"
   ]
  },
  {
   "cell_type": "code",
   "execution_count": 4,
   "id": "638a35e9",
   "metadata": {},
   "outputs": [],
   "source": [
    "def desired_results(result):\n",
    "    \"\"\"\n",
    "    Determines if the given result is desireable.\n",
    "    In this use case, a desirable result is one of the 10 organic results from the search page.\n",
    "    \"\"\"\n",
    "    if result.parent.has_attr('id') and (result.parent['id'][0] == 'bres' or result.parent['id'] == 'bres'):\n",
    "        return False\n",
    "    elif result.parent.has_attr('class') and result.parent['class'][0] == 'ULSxyf':\n",
    "        return False\n",
    "    else:\n",
    "        return True"
   ]
  },
  {
   "cell_type": "markdown",
   "id": "e368af7b",
   "metadata": {},
   "source": [
    "Function scrapes all top organic results from the HTML"
   ]
  },
  {
   "cell_type": "code",
   "execution_count": 3,
   "id": "71775e03",
   "metadata": {},
   "outputs": [],
   "source": [
    "def find_top_results(soup):\n",
    "    \"\"\"\n",
    "    Scrapes top results from a given SERP.\n",
    "    \"\"\"\n",
    "    all_top_results = []\n",
    "    \n",
    "    result_divs = soup.find_all('div', class_='MjjYud')\n",
    "    \n",
    "    organic_results = list(filter(desired_results, result_divs))\n",
    "        \n",
    "    for div in organic_results:\n",
    "        try:\n",
    "            a = div.find('a')\n",
    "            link = a.get('href')\n",
    "            title = a.find('h3').text\n",
    "            domain = urlparse(link).netloc\n",
    "            all_top_results.append({'title': title, \n",
    "                                    'domain': domain, \n",
    "                                    'link': link})\n",
    "        except AttributeError:\n",
    "            print('skipping a div for attribute error')\n",
    "            \n",
    "    return all_top_results"
   ]
  },
  {
   "cell_type": "markdown",
   "id": "8b6b40cc",
   "metadata": {},
   "source": [
    "Function loads the top organic results into a JSON with correct folder hierarchy"
   ]
  },
  {
   "cell_type": "code",
   "execution_count": 2,
   "id": "d7c58339",
   "metadata": {},
   "outputs": [],
   "source": [
    "def create_json(ls):\n",
    "    \"\"\"\n",
    "    Creates new json files with all of the organic search results for each pre-existing html file in the given list.\n",
    "    \n",
    "    Parameters:\n",
    "    ls - a list of existing queries for which to scrape the organic results\n",
    "    \"\"\"\n",
    "    for q in ls:  \n",
    "        folder = os.listdir(f'queries/{q}')\n",
    "        html = list(filter(lambda el: el == f'{q}.html', folder))[0]\n",
    "\n",
    "        soup = BS(open(f\"queries/{q}/{html}\", 'r').read(), 'html.parser')\n",
    "        topResults = find_top_results(soup)\n",
    "\n",
    "        with open(f'queries/{q}/{q}.json', 'w') as outFile:\n",
    "            json.dump(topResults, outFile)\n",
    "        print(f'{q} ---- {len(topResults)} results')"
   ]
  },
  {
   "cell_type": "markdown",
   "id": "7577617d",
   "metadata": {},
   "source": [
    "Confirm expected results from the search-phrases JSON dictionary"
   ]
  },
  {
   "cell_type": "code",
   "execution_count": 23,
   "id": "16cc318e",
   "metadata": {},
   "outputs": [
    {
     "data": {
      "text/plain": [
       "['menstruation and vaginas',\n",
       " 'breasts hurt during period',\n",
       " 'tampon isn’t fitting in my vagina',\n",
       " 'diva cup fit test for vulva',\n",
       " 'why does menstruation cause cramps and butt pain?',\n",
       " 'Does menstruation come out of uterus',\n",
       " 'what is going on in with the uterus and ovaries during menstruation?',\n",
       " 'what happens in the body during menstruation?',\n",
       " 'why do boobs hurt during menstruation?',\n",
       " 'blood coming out of my vagina',\n",
       " 'my uterus hurts',\n",
       " 'vagina',\n",
       " 'uterus']"
      ]
     },
     "execution_count": 23,
     "metadata": {},
     "output_type": "execute_result"
    }
   ],
   "source": [
    "with open(f'search-phrases.json', 'r') as inFile:\n",
    "    queries = json.load(inFile)\n",
    "        \n",
    "queries['anatomical-terms']"
   ]
  },
  {
   "cell_type": "markdown",
   "id": "20f956f2",
   "metadata": {},
   "source": [
    "<a id=\"sec2\"></a>\n",
    "### Call the Scraping Function on each Query"
   ]
  },
  {
   "cell_type": "code",
   "execution_count": 242,
   "id": "e695ce76",
   "metadata": {},
   "outputs": [
    {
     "name": "stdout",
     "output_type": "stream",
     "text": [
      "Why do people get periods ---- 9 results\n",
      "why do we menstruate? ---- 10 results\n",
      "skipping a div for attribute error\n",
      "advice for people who menstruate ---- 10 results\n",
      "how to mitigate dysphoria while menstruating ---- 10 results\n",
      "things that everyone who has a period should know ---- 10 results\n",
      "should menstruators drink while on their period ---- 9 results\n",
      "do trans men stop menstruating? ---- 9 results\n",
      "skipping a div for attribute error\n",
      "do trans women menstruate? ---- 10 results\n",
      "do trans women ever want to menstruate? ---- 10 results\n",
      "how does menstruation affect the trans experience? ---- 9 results\n",
      "skipping a div for attribute error\n",
      "what menstrual pads are best? ---- 10 results\n",
      "average length of menstrual cycle ---- 9 results\n",
      "how much blood is lost in one period ---- 9 results\n",
      "skipping a div for attribute error\n",
      "How do periods work ---- 9 results\n",
      "what's the point of menstruation?what's the deal with menstruation? ---- 10 results\n",
      "why do people menstruate? ---- 9 results\n",
      "why is menstruation so uncomfortable? ---- 9 results\n",
      "how much blood is too much blood ---- 8 results\n",
      "what is a period ---- 10 results\n",
      "how long do periods last ---- 9 results\n",
      "when do i get my period ---- 7 results\n",
      "skipping a div for attribute error\n",
      "How do periods work ---- 9 results\n",
      "what is menstruation? ---- 11 results\n",
      "why do humans menstruate? ---- 9 results\n",
      "is menstruating annoying? ---- 10 results\n",
      "will we ever evolve out of menstruating? ---- 9 results\n",
      "why is there blood in my underwear ---- 9 results\n",
      "is my period normal ---- 7 results\n",
      "how long are women’s periods? ---- 9 results\n",
      "how many periods does a woman get in her lifetime ---- 10 results\n",
      "why is my girlfriend so moody before her period ---- 10 results\n",
      "how to take care of my girlfriend on her period ---- 7 results\n",
      "When do girls start their periods? ---- 8 results\n",
      "female monthly period ---- 9 results\n",
      "why do women menstruate? ---- 8 results\n",
      "is menstruating annoying to women? ---- 10 results\n",
      "do only women menstruate? ---- 9 results\n",
      "why do only women menstruate? ---- 8 results\n",
      "how long do women menstruate ---- 8 results\n",
      "how late should women be on their period ---- 7 results\n",
      "menstruation and vaginas ---- 8 results\n",
      "breasts hurt during period ---- 9 results\n",
      "tampon isn’t fitting in my vagina ---- 9 results\n",
      "diva cup fit test for vulva ---- 7 results\n",
      "why does menstruation cause cramps and butt pain? ---- 9 results\n",
      "Does menstruation come out of uterus ---- 11 results\n",
      "what is going on in with the uterus and ovaries during menstruation? ---- 9 results\n",
      "what happens in the body during menstruation? ---- 9 results\n",
      "why do boobs hurt during menstruation? ---- 9 results\n",
      "blood coming out of my vagina ---- 9 results\n",
      "my uterus hurts ---- 8 results\n"
     ]
    }
   ],
   "source": [
    "for category in queries:\n",
    "    create_json(queries[category])"
   ]
  }
 ],
 "metadata": {
  "kernelspec": {
   "display_name": "Python 3 (ipykernel)",
   "language": "python",
   "name": "python3"
  },
  "language_info": {
   "codemirror_mode": {
    "name": "ipython",
    "version": 3
   },
   "file_extension": ".py",
   "mimetype": "text/x-python",
   "name": "python",
   "nbconvert_exporter": "python",
   "pygments_lexer": "ipython3",
   "version": "3.9.9"
  }
 },
 "nbformat": 4,
 "nbformat_minor": 5
}
